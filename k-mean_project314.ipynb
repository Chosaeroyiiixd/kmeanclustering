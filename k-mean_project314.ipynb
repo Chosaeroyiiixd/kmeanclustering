{
 "cells": [
  {
   "cell_type": "code",
   "execution_count": 1,
   "id": "2cc4cfe4",
   "metadata": {},
   "outputs": [],
   "source": [
    "from sklearn.cluster import KMeans\n",
    "import pandas as pd\n",
    "from sklearn.preprocessing import MinMaxScaler\n",
    "from matplotlib import pyplot as plt\n",
    "import numpy as np\n",
    "%matplotlib inline"
   ]
  },
  {
   "cell_type": "code",
   "execution_count": 2,
   "id": "5dd78495",
   "metadata": {},
   "outputs": [
    {
     "data": {
      "text/html": [
       "<div>\n",
       "<style scoped>\n",
       "    .dataframe tbody tr th:only-of-type {\n",
       "        vertical-align: middle;\n",
       "    }\n",
       "\n",
       "    .dataframe tbody tr th {\n",
       "        vertical-align: top;\n",
       "    }\n",
       "\n",
       "    .dataframe thead th {\n",
       "        text-align: right;\n",
       "    }\n",
       "</style>\n",
       "<table border=\"1\" class=\"dataframe\">\n",
       "  <thead>\n",
       "    <tr style=\"text-align: right;\">\n",
       "      <th></th>\n",
       "      <th>Country</th>\n",
       "      <th>export_potential</th>\n",
       "      <th>actual_export</th>\n",
       "    </tr>\n",
       "  </thead>\n",
       "  <tbody>\n",
       "    <tr>\n",
       "      <th>0</th>\n",
       "      <td>United States</td>\n",
       "      <td>575000000.0</td>\n",
       "      <td>424000000.0</td>\n",
       "    </tr>\n",
       "    <tr>\n",
       "      <th>1</th>\n",
       "      <td>German</td>\n",
       "      <td>478000000.0</td>\n",
       "      <td>367000000.0</td>\n",
       "    </tr>\n",
       "    <tr>\n",
       "      <th>2</th>\n",
       "      <td>Japan</td>\n",
       "      <td>273000000.0</td>\n",
       "      <td>216000000.0</td>\n",
       "    </tr>\n",
       "    <tr>\n",
       "      <th>3</th>\n",
       "      <td>Korea</td>\n",
       "      <td>171000000.0</td>\n",
       "      <td>126000000.0</td>\n",
       "    </tr>\n",
       "    <tr>\n",
       "      <th>4</th>\n",
       "      <td>China</td>\n",
       "      <td>170000000.0</td>\n",
       "      <td>89000000.0</td>\n",
       "    </tr>\n",
       "  </tbody>\n",
       "</table>\n",
       "</div>"
      ],
      "text/plain": [
       "          Country   export_potential  actual_export\n",
       "0   United States        575000000.0    424000000.0\n",
       "1          German        478000000.0    367000000.0\n",
       "2           Japan        273000000.0    216000000.0\n",
       "3           Korea        171000000.0    126000000.0\n",
       "4           China        170000000.0     89000000.0"
      ]
     },
     "execution_count": 2,
     "metadata": {},
     "output_type": "execute_result"
    }
   ],
   "source": [
    "df = pd.read_csv('export_potential.csv')\n",
    "colnames = list(df.columns[1:-1])"
   ]
  },
  {
   "cell_type": "code",
   "execution_count": 3,
   "id": "463e8d14",
   "metadata": {},
   "outputs": [
    {
     "data": {
      "text/plain": [
       "<matplotlib.collections.PathCollection at 0x1e650551d88>"
      ]
     },
     "execution_count": 3,
     "metadata": {},
     "output_type": "execute_result"
    },
    {
     "data": {
      "image/png": "[encoded data removed]",
      "text/plain": [
       "<Figure size 432x288 with 1 Axes>"
      ]
     },
     "metadata": {
      "needs_background": "light"
     },
     "output_type": "display_data"
    }
   ],
   "source": [
    "plt.scatter(df['actual_export'],df['export_potential'])"
   ]
  },
  {
   "cell_type": "code",
   "execution_count": 4,
   "id": "1d1afdf9",
   "metadata": {},
   "outputs": [
    {
     "data": {
      "text/plain": [
       " Country            1\n",
       "export_potential    1\n",
       "actual_export       1\n",
       "dtype: int64"
      ]
     },
     "execution_count": 4,
     "metadata": {},
     "output_type": "execute_result"
    }
   ],
   "source": [
    "df.isna().sum()"
   ]
  },
  {
   "cell_type": "code",
   "execution_count": 5,
   "id": "b75d864e",
   "metadata": {},
   "outputs": [],
   "source": [
    "df = df.drop([27])"
   ]
  },
  {
   "cell_type": "code",
   "execution_count": 29,
   "id": "d91cb5c9",
   "metadata": {},
   "outputs": [],
   "source": [
    "scaler = MinMaxScaler()\n",
    "\n",
    "scaler.fit(df[['actual_export']])\n",
    "df['actual_export_normal'] = scaler.transform(df[['actual_export']])\n",
    "\n",
    "scaler.fit(df[['export_potential']])\n",
    "df['export_potential_normal'] = scaler.transform(df[['export_potential']])"
   ]
  },
  {
   "cell_type": "code",
   "execution_count": 30,
   "id": "2a2d8bf9",
   "metadata": {},
   "outputs": [
    {
     "data": {
      "text/plain": [
       "array([1, 1, 0, 0, 0, 0, 0, 0, 0, 0, 0, 0, 0, 0, 0, 0, 0, 0, 0, 0, 0, 0,\n",
       "       0, 0, 0, 0, 0])"
      ]
     },
     "execution_count": 30,
     "metadata": {},
     "output_type": "execute_result"
    }
   ],
   "source": [
    "km = KMeans(n_clusters=2)\n",
    "y_predicted = km.fit_predict(df[['actual_export_normal','export_potential_normal']])\n",
    "y_predicted"
   ]
  },
  {
   "cell_type": "code",
   "execution_count": 32,
   "id": "aaa8ff8f",
   "metadata": {},
   "outputs": [
    {
     "data": {
      "text/html": [
       "<div>\n",
       "<style scoped>\n",
       "    .dataframe tbody tr th:only-of-type {\n",
       "        vertical-align: middle;\n",
       "    }\n",
       "\n",
       "    .dataframe tbody tr th {\n",
       "        vertical-align: top;\n",
       "    }\n",
       "\n",
       "    .dataframe thead th {\n",
       "        text-align: right;\n",
       "    }\n",
       "</style>\n",
       "<table border=\"1\" class=\"dataframe\">\n",
       "  <thead>\n",
       "    <tr style=\"text-align: right;\">\n",
       "      <th></th>\n",
       "      <th>Country</th>\n",
       "      <th>export_potential</th>\n",
       "      <th>actual_export</th>\n",
       "      <th>actual_export_normal</th>\n",
       "      <th>export_potential_normal</th>\n",
       "      <th>cluster</th>\n",
       "    </tr>\n",
       "  </thead>\n",
       "  <tbody>\n",
       "    <tr>\n",
       "      <th>0</th>\n",
       "      <td>United States</td>\n",
       "      <td>575000000.0</td>\n",
       "      <td>424000000.0</td>\n",
       "      <td>1.000000</td>\n",
       "      <td>1.000000</td>\n",
       "      <td>1</td>\n",
       "    </tr>\n",
       "    <tr>\n",
       "      <th>1</th>\n",
       "      <td>German</td>\n",
       "      <td>478000000.0</td>\n",
       "      <td>367000000.0</td>\n",
       "      <td>0.860976</td>\n",
       "      <td>0.822669</td>\n",
       "      <td>1</td>\n",
       "    </tr>\n",
       "    <tr>\n",
       "      <th>2</th>\n",
       "      <td>Japan</td>\n",
       "      <td>273000000.0</td>\n",
       "      <td>216000000.0</td>\n",
       "      <td>0.492683</td>\n",
       "      <td>0.447898</td>\n",
       "      <td>0</td>\n",
       "    </tr>\n",
       "    <tr>\n",
       "      <th>3</th>\n",
       "      <td>Korea</td>\n",
       "      <td>171000000.0</td>\n",
       "      <td>126000000.0</td>\n",
       "      <td>0.273171</td>\n",
       "      <td>0.261426</td>\n",
       "      <td>0</td>\n",
       "    </tr>\n",
       "    <tr>\n",
       "      <th>4</th>\n",
       "      <td>China</td>\n",
       "      <td>170000000.0</td>\n",
       "      <td>89000000.0</td>\n",
       "      <td>0.182927</td>\n",
       "      <td>0.259598</td>\n",
       "      <td>0</td>\n",
       "    </tr>\n",
       "    <tr>\n",
       "      <th>5</th>\n",
       "      <td>Honkong</td>\n",
       "      <td>165000000.0</td>\n",
       "      <td>128000000.0</td>\n",
       "      <td>0.278049</td>\n",
       "      <td>0.250457</td>\n",
       "      <td>0</td>\n",
       "    </tr>\n",
       "    <tr>\n",
       "      <th>6</th>\n",
       "      <td>France</td>\n",
       "      <td>164000000.0</td>\n",
       "      <td>123000000.0</td>\n",
       "      <td>0.265854</td>\n",
       "      <td>0.248629</td>\n",
       "      <td>0</td>\n",
       "    </tr>\n",
       "    <tr>\n",
       "      <th>7</th>\n",
       "      <td>India</td>\n",
       "      <td>161000000.0</td>\n",
       "      <td>78000000.0</td>\n",
       "      <td>0.156098</td>\n",
       "      <td>0.243144</td>\n",
       "      <td>0</td>\n",
       "    </tr>\n",
       "    <tr>\n",
       "      <th>8</th>\n",
       "      <td>Vietnam</td>\n",
       "      <td>135000000.0</td>\n",
       "      <td>67000000.0</td>\n",
       "      <td>0.129268</td>\n",
       "      <td>0.195612</td>\n",
       "      <td>0</td>\n",
       "    </tr>\n",
       "    <tr>\n",
       "      <th>9</th>\n",
       "      <td>Taipei</td>\n",
       "      <td>134000000.0</td>\n",
       "      <td>99000000.0</td>\n",
       "      <td>0.207317</td>\n",
       "      <td>0.193784</td>\n",
       "      <td>0</td>\n",
       "    </tr>\n",
       "    <tr>\n",
       "      <th>10</th>\n",
       "      <td>Spain</td>\n",
       "      <td>121000000.0</td>\n",
       "      <td>92000000.0</td>\n",
       "      <td>0.190244</td>\n",
       "      <td>0.170018</td>\n",
       "      <td>0</td>\n",
       "    </tr>\n",
       "    <tr>\n",
       "      <th>11</th>\n",
       "      <td>United Kingdom</td>\n",
       "      <td>116000000.0</td>\n",
       "      <td>87000000.0</td>\n",
       "      <td>0.178049</td>\n",
       "      <td>0.160878</td>\n",
       "      <td>0</td>\n",
       "    </tr>\n",
       "    <tr>\n",
       "      <th>12</th>\n",
       "      <td>Italy</td>\n",
       "      <td>105000000.0</td>\n",
       "      <td>82000000.0</td>\n",
       "      <td>0.165854</td>\n",
       "      <td>0.140768</td>\n",
       "      <td>0</td>\n",
       "    </tr>\n",
       "    <tr>\n",
       "      <th>13</th>\n",
       "      <td>Canada</td>\n",
       "      <td>105000000.0</td>\n",
       "      <td>76000000.0</td>\n",
       "      <td>0.151220</td>\n",
       "      <td>0.140768</td>\n",
       "      <td>0</td>\n",
       "    </tr>\n",
       "    <tr>\n",
       "      <th>14</th>\n",
       "      <td>Malaysia</td>\n",
       "      <td>100000000.0</td>\n",
       "      <td>55000000.0</td>\n",
       "      <td>0.100000</td>\n",
       "      <td>0.131627</td>\n",
       "      <td>0</td>\n",
       "    </tr>\n",
       "    <tr>\n",
       "      <th>15</th>\n",
       "      <td>Netherlands</td>\n",
       "      <td>99000000.0</td>\n",
       "      <td>73000000.0</td>\n",
       "      <td>0.143902</td>\n",
       "      <td>0.129799</td>\n",
       "      <td>0</td>\n",
       "    </tr>\n",
       "    <tr>\n",
       "      <th>16</th>\n",
       "      <td>Saudi Arabia</td>\n",
       "      <td>81000000.0</td>\n",
       "      <td>48000000.0</td>\n",
       "      <td>0.082927</td>\n",
       "      <td>0.096892</td>\n",
       "      <td>0</td>\n",
       "    </tr>\n",
       "    <tr>\n",
       "      <th>17</th>\n",
       "      <td>Singapore</td>\n",
       "      <td>74000000.0</td>\n",
       "      <td>60000000.0</td>\n",
       "      <td>0.112195</td>\n",
       "      <td>0.084095</td>\n",
       "      <td>0</td>\n",
       "    </tr>\n",
       "    <tr>\n",
       "      <th>18</th>\n",
       "      <td>Poland</td>\n",
       "      <td>73000000.0</td>\n",
       "      <td>53000000.0</td>\n",
       "      <td>0.095122</td>\n",
       "      <td>0.082267</td>\n",
       "      <td>0</td>\n",
       "    </tr>\n",
       "    <tr>\n",
       "      <th>19</th>\n",
       "      <td>Switzerland</td>\n",
       "      <td>64000000.0</td>\n",
       "      <td>48000000.0</td>\n",
       "      <td>0.082927</td>\n",
       "      <td>0.065814</td>\n",
       "      <td>0</td>\n",
       "    </tr>\n",
       "    <tr>\n",
       "      <th>20</th>\n",
       "      <td>Belgium</td>\n",
       "      <td>51000000.0</td>\n",
       "      <td>38000000.0</td>\n",
       "      <td>0.058537</td>\n",
       "      <td>0.042048</td>\n",
       "      <td>0</td>\n",
       "    </tr>\n",
       "    <tr>\n",
       "      <th>21</th>\n",
       "      <td>Australia</td>\n",
       "      <td>50000000.0</td>\n",
       "      <td>36000000.0</td>\n",
       "      <td>0.053659</td>\n",
       "      <td>0.040219</td>\n",
       "      <td>0</td>\n",
       "    </tr>\n",
       "    <tr>\n",
       "      <th>22</th>\n",
       "      <td>Austria</td>\n",
       "      <td>48000000.0</td>\n",
       "      <td>36000000.0</td>\n",
       "      <td>0.053659</td>\n",
       "      <td>0.036563</td>\n",
       "      <td>0</td>\n",
       "    </tr>\n",
       "    <tr>\n",
       "      <th>23</th>\n",
       "      <td>Russia</td>\n",
       "      <td>42000000.0</td>\n",
       "      <td>30000000.0</td>\n",
       "      <td>0.039024</td>\n",
       "      <td>0.025594</td>\n",
       "      <td>0</td>\n",
       "    </tr>\n",
       "    <tr>\n",
       "      <th>24</th>\n",
       "      <td>Brazil</td>\n",
       "      <td>41000000.0</td>\n",
       "      <td>26000000.0</td>\n",
       "      <td>0.029268</td>\n",
       "      <td>0.023766</td>\n",
       "      <td>0</td>\n",
       "    </tr>\n",
       "    <tr>\n",
       "      <th>25</th>\n",
       "      <td>Bangladesh</td>\n",
       "      <td>29000000.0</td>\n",
       "      <td>14000000.0</td>\n",
       "      <td>0.000000</td>\n",
       "      <td>0.001828</td>\n",
       "      <td>0</td>\n",
       "    </tr>\n",
       "    <tr>\n",
       "      <th>26</th>\n",
       "      <td>Czechia</td>\n",
       "      <td>28000000.0</td>\n",
       "      <td>21000000.0</td>\n",
       "      <td>0.017073</td>\n",
       "      <td>0.000000</td>\n",
       "      <td>0</td>\n",
       "    </tr>\n",
       "  </tbody>\n",
       "</table>\n",
       "</div>"
      ],
      "text/plain": [
       "            Country   export_potential  actual_export  actual_export_normal  \\\n",
       "0     United States        575000000.0    424000000.0              1.000000   \n",
       "1            German        478000000.0    367000000.0              0.860976   \n",
       "2             Japan        273000000.0    216000000.0              0.492683   \n",
       "3             Korea        171000000.0    126000000.0              0.273171   \n",
       "4             China        170000000.0     89000000.0              0.182927   \n",
       "5           Honkong        165000000.0    128000000.0              0.278049   \n",
       "6            France        164000000.0    123000000.0              0.265854   \n",
       "7             India        161000000.0     78000000.0              0.156098   \n",
       "8           Vietnam        135000000.0     67000000.0              0.129268   \n",
       "9            Taipei        134000000.0     99000000.0              0.207317   \n",
       "10            Spain        121000000.0     92000000.0              0.190244   \n",
       "11   United Kingdom        116000000.0     87000000.0              0.178049   \n",
       "12            Italy        105000000.0     82000000.0              0.165854   \n",
       "13           Canada        105000000.0     76000000.0              0.151220   \n",
       "14         Malaysia        100000000.0     55000000.0              0.100000   \n",
       "15      Netherlands         99000000.0     73000000.0              0.143902   \n",
       "16     Saudi Arabia         81000000.0     48000000.0              0.082927   \n",
       "17        Singapore         74000000.0     60000000.0              0.112195   \n",
       "18           Poland         73000000.0     53000000.0              0.095122   \n",
       "19      Switzerland         64000000.0     48000000.0              0.082927   \n",
       "20          Belgium         51000000.0     38000000.0              0.058537   \n",
       "21        Australia         50000000.0     36000000.0              0.053659   \n",
       "22          Austria         48000000.0     36000000.0              0.053659   \n",
       "23           Russia         42000000.0     30000000.0              0.039024   \n",
       "24           Brazil         41000000.0     26000000.0              0.029268   \n",
       "25       Bangladesh         29000000.0     14000000.0              0.000000   \n",
       "26          Czechia         28000000.0     21000000.0              0.017073   \n",
       "\n",
       "    export_potential_normal  cluster  \n",
       "0                  1.000000        1  \n",
       "1                  0.822669        1  \n",
       "2                  0.447898        0  \n",
       "3                  0.261426        0  \n",
       "4                  0.259598        0  \n",
       "5                  0.250457        0  \n",
       "6                  0.248629        0  \n",
       "7                  0.243144        0  \n",
       "8                  0.195612        0  \n",
       "9                  0.193784        0  \n",
       "10                 0.170018        0  \n",
       "11                 0.160878        0  \n",
       "12                 0.140768        0  \n",
       "13                 0.140768        0  \n",
       "14                 0.131627        0  \n",
       "15                 0.129799        0  \n",
       "16                 0.096892        0  \n",
       "17                 0.084095        0  \n",
       "18                 0.082267        0  \n",
       "19                 0.065814        0  \n",
       "20                 0.042048        0  \n",
       "21                 0.040219        0  \n",
       "22                 0.036563        0  \n",
       "23                 0.025594        0  \n",
       "24                 0.023766        0  \n",
       "25                 0.001828        0  \n",
       "26                 0.000000        0  "
      ]
     },
     "execution_count": 32,
     "metadata": {},
     "output_type": "execute_result"
    }
   ],
   "source": [
    "df['cluster'] = y_predicted "
   ]
  },
  {
   "cell_type": "code",
   "execution_count": 23,
   "id": "5e22a18d",
   "metadata": {},
   "outputs": [
    {
     "data": {
      "text/plain": [
       "<matplotlib.legend.Legend at 0x1e6536b01c8>"
      ]
     },
     "execution_count": 23,
     "metadata": {},
     "output_type": "execute_result"
    },
    {
     "data": {
      "image/png": "[encoded data removed]",
      "text/plain": [
       "<Figure size 432x288 with 1 Axes>"
      ]
     },
     "metadata": {
      "needs_background": "light"
     },
     "output_type": "display_data"
    }
   ],
   "source": [
    "df1 = df[df.cluster==0]\n",
    "df2 = df[df.cluster==1]\n",
    "plt.scatter(df1.export_potential,df1['actual_export'],color='green')\n",
    "plt.scatter(df2.export_potential,df2['actual_export'],color='red')\n",
    "plt.scatter(km.cluster_centers_[:,0],km.cluster_centers_[:,1],color='purple',marker='*',label='centroid')\n",
    "plt.legend()"
   ]
  },
  {
   "cell_type": "code",
   "execution_count": 24,
   "id": "538a790e",
   "metadata": {},
   "outputs": [
    {
     "name": "stderr",
     "output_type": "stream",
     "text": [
      "C:\\Users\\bookr\\.conda\\envs\\book\\lib\\site-packages\\sklearn\\cluster\\_kmeans.py:1037: UserWarning: KMeans is known to have a memory leak on Windows with MKL, when there are less chunks than available threads. You can avoid it by setting the environment variable OMP_NUM_THREADS=1.\n",
      "  \"KMeans is known to have a memory leak on Windows \"\n"
     ]
    }
   ],
   "source": [
    "sse = []\n",
    "k_rng = range(1,10)\n",
    "for k in k_rng:\n",
    "    km = KMeans(n_clusters=k)\n",
    "    km.fit(df[['export_potential','actual_export']])\n",
    "    sse.append(km.inertia_)\n"
   ]
  },
  {
   "cell_type": "code",
   "execution_count": 25,
   "id": "419f9c1a",
   "metadata": {},
   "outputs": [
    {
     "data": {
      "text/plain": [
       "[<matplotlib.lines.Line2D at 0x1e65399e788>]"
      ]
     },
     "execution_count": 25,
     "metadata": {},
     "output_type": "execute_result"
    },
    {
     "data": {
      "image/png": "[encoded data removed]",
      "text/plain": [
       "<Figure size 432x288 with 1 Axes>"
      ]
     },
     "metadata": {
      "needs_background": "light"
     },
     "output_type": "display_data"
    }
   ],
   "source": [
    "plt.xlabel('K')\n",
    "plt.ylabel('Sum of squared error')\n",
    "plt.plot(k_rng,sse)"
   ]
  },
  {
   "cell_type": "code",
   "execution_count": 33,
   "id": "853a79fe",
   "metadata": {},
   "outputs": [
    {
     "data": {
      "text/plain": [
       " Country                    object\n",
       "export_potential           float64\n",
       "actual_export              float64\n",
       "actual_export_normal       float64\n",
       "export_potential_normal    float64\n",
       "cluster                      int32\n",
       "dtype: object"
      ]
     },
     "execution_count": 33,
     "metadata": {},
     "output_type": "execute_result"
    }
   ],
   "source": [
    "df.dtypes"
   ]
  },
  {
   "cell_type": "code",
   "execution_count": 34,
   "id": "e7fbd261",
   "metadata": {},
   "outputs": [],
   "source": [
    "from sklearn.metrics import silhouette_score\n",
    "import sklearn.metrics as metrics\n",
    "import sklearn.cluster as cluster\n",
    "from sklearn.metrics import silhouette_samples, silhouette_score"
   ]
  },
  {
   "cell_type": "code",
   "execution_count": 35,
   "id": "7e86f122",
   "metadata": {},
   "outputs": [
    {
     "data": {
      "text/html": [
       "<div>\n",
       "<style scoped>\n",
       "    .dataframe tbody tr th:only-of-type {\n",
       "        vertical-align: middle;\n",
       "    }\n",
       "\n",
       "    .dataframe tbody tr th {\n",
       "        vertical-align: top;\n",
       "    }\n",
       "\n",
       "    .dataframe thead th {\n",
       "        text-align: right;\n",
       "    }\n",
       "</style>\n",
       "<table border=\"1\" class=\"dataframe\">\n",
       "  <thead>\n",
       "    <tr style=\"text-align: right;\">\n",
       "      <th></th>\n",
       "      <th>export_potential_normal</th>\n",
       "      <th>actual_export_normal</th>\n",
       "    </tr>\n",
       "  </thead>\n",
       "  <tbody>\n",
       "    <tr>\n",
       "      <th>0</th>\n",
       "      <td>1.000000</td>\n",
       "      <td>1.000000</td>\n",
       "    </tr>\n",
       "    <tr>\n",
       "      <th>1</th>\n",
       "      <td>0.822669</td>\n",
       "      <td>0.860976</td>\n",
       "    </tr>\n",
       "    <tr>\n",
       "      <th>2</th>\n",
       "      <td>0.447898</td>\n",
       "      <td>0.492683</td>\n",
       "    </tr>\n",
       "    <tr>\n",
       "      <th>3</th>\n",
       "      <td>0.261426</td>\n",
       "      <td>0.273171</td>\n",
       "    </tr>\n",
       "    <tr>\n",
       "      <th>4</th>\n",
       "      <td>0.259598</td>\n",
       "      <td>0.182927</td>\n",
       "    </tr>\n",
       "  </tbody>\n",
       "</table>\n",
       "</div>"
      ],
      "text/plain": [
       "   export_potential_normal  actual_export_normal\n",
       "0                 1.000000              1.000000\n",
       "1                 0.822669              0.860976\n",
       "2                 0.447898              0.492683\n",
       "3                 0.261426              0.273171\n",
       "4                 0.259598              0.182927"
      ]
     },
     "execution_count": 35,
     "metadata": {},
     "output_type": "execute_result"
    }
   ],
   "source": [
    "df_shorts = df[['export_potential_normal','actual_export_normal']]\n",
    "df_shorts.head()"
   ]
  },
  {
   "cell_type": "code",
   "execution_count": 36,
   "id": "632ad49b",
   "metadata": {},
   "outputs": [
    {
     "name": "stdout",
     "output_type": "stream",
     "text": [
      "Silhouette score for k(clusters) = 2 is 0.8305211586500912\n",
      "Silhouette score for k(clusters) = 3 is 0.5252266772389492\n",
      "Silhouette score for k(clusters) = 4 is 0.5618999176506563\n",
      "Silhouette score for k(clusters) = 5 is 0.48888263527597386\n",
      "Silhouette score for k(clusters) = 6 is 0.4418219839286518\n",
      "Silhouette score for k(clusters) = 7 is 0.4465942825397814\n",
      "Silhouette score for k(clusters) = 8 is 0.49670998154699103\n",
      "Silhouette score for k(clusters) = 9 is 0.48573790552106993\n",
      "Silhouette score for k(clusters) = 10 is 0.43965540185739754\n",
      "Silhouette score for k(clusters) = 11 is 0.4524008560556112\n",
      "Silhouette score for k(clusters) = 12 is 0.4685142669642733\n"
     ]
    }
   ],
   "source": [
    "SK = range(2,13)\n",
    "sil_score = []\n",
    "for i in SK:\n",
    "    labels=cluster.KMeans(n_clusters=i,init=\"k-means++\",random_state=200).fit(df_shorts).labels_\n",
    "    score = metrics.silhouette_score(df_shorts,labels,metric=\"euclidean\",sample_size=1000,random_state=200)\n",
    "    sil_score.append(score)\n",
    "    print (\"Silhouette score for k(clusters) = \"+str(i)+\" is \"\n",
    "           +str(metrics.silhouette_score(df_shorts,labels,metric=\"euclidean\",sample_size=1000,random_state=200)))"
   ]
  },
  {
   "cell_type": "code",
   "execution_count": 37,
   "id": "59466ef3",
   "metadata": {},
   "outputs": [
    {
     "data": {
      "text/plain": [
       "array([1, 1, 0, 0, 0, 0, 0, 0, 0, 0, 0, 0, 0, 0, 0, 0, 0, 0, 0, 0, 0, 0,\n",
       "       0, 0, 0, 0, 0])"
      ]
     },
     "execution_count": 37,
     "metadata": {},
     "output_type": "execute_result"
    }
   ],
   "source": [
    "km = KMeans(n_clusters=2)\n",
    "y_predicted = km.fit_predict(df[['actual_export','export_potential']])\n",
    "y_predicted"
   ]
  },
  {
   "cell_type": "code",
   "execution_count": 38,
   "id": "981fc5b8",
   "metadata": {},
   "outputs": [
    {
     "data": {
      "text/plain": [
       "<matplotlib.legend.Legend at 0x1e653a56a88>"
      ]
     },
     "execution_count": 38,
     "metadata": {},
     "output_type": "execute_result"
    },
    {
     "data": {
      "image/png": "[encoded data removed]",
      "text/plain": [
       "<Figure size 432x288 with 1 Axes>"
      ]
     },
     "metadata": {
      "needs_background": "light"
     },
     "output_type": "display_data"
    }
   ],
   "source": [
    "df1 = df[df.cluster==0]\n",
    "df2 = df[df.cluster==1]\n",
    "plt.scatter(df1.export_potential,df1['actual_export'],color='green')\n",
    "plt.scatter(df2.export_potential,df2['actual_export'],color='red')\n",
    "plt.scatter(km.cluster_centers_[:,0],km.cluster_centers_[:,1],color='purple',marker='*',label='centroid')\n",
    "plt.legend()"
   ]
  },
  {
   "cell_type": "code",
   "execution_count": 39,
   "id": "1360658c",
   "metadata": {},
   "outputs": [
    {
     "name": "stdout",
     "output_type": "stream",
     "text": [
      "Silhouetter Score: 0.83052115865009\n"
     ]
    }
   ],
   "source": [
    "score = silhouette_score(df_shorts, km.labels_, metric='euclidean')\n",
    "print('Silhouetter Score: %.14f' % score)"
   ]
  },
  {
   "cell_type": "code",
   "execution_count": 44,
   "id": "0c71473d",
   "metadata": {},
   "outputs": [],
   "source": [
    "df = df.drop(columns = ['actual_export_normal','export_potential_normal'])"
   ]
  },
  {
   "cell_type": "code",
   "execution_count": 45,
   "id": "15c1203b",
   "metadata": {},
   "outputs": [
    {
     "data": {
      "text/html": [
       "<div>\n",
       "<style scoped>\n",
       "    .dataframe tbody tr th:only-of-type {\n",
       "        vertical-align: middle;\n",
       "    }\n",
       "\n",
       "    .dataframe tbody tr th {\n",
       "        vertical-align: top;\n",
       "    }\n",
       "\n",
       "    .dataframe thead th {\n",
       "        text-align: right;\n",
       "    }\n",
       "</style>\n",
       "<table border=\"1\" class=\"dataframe\">\n",
       "  <thead>\n",
       "    <tr style=\"text-align: right;\">\n",
       "      <th></th>\n",
       "      <th>Country</th>\n",
       "      <th>export_potential</th>\n",
       "      <th>actual_export</th>\n",
       "      <th>cluster</th>\n",
       "    </tr>\n",
       "  </thead>\n",
       "  <tbody>\n",
       "    <tr>\n",
       "      <th>0</th>\n",
       "      <td>United States</td>\n",
       "      <td>575000000.0</td>\n",
       "      <td>424000000.0</td>\n",
       "      <td>1</td>\n",
       "    </tr>\n",
       "    <tr>\n",
       "      <th>1</th>\n",
       "      <td>German</td>\n",
       "      <td>478000000.0</td>\n",
       "      <td>367000000.0</td>\n",
       "      <td>1</td>\n",
       "    </tr>\n",
       "    <tr>\n",
       "      <th>2</th>\n",
       "      <td>Japan</td>\n",
       "      <td>273000000.0</td>\n",
       "      <td>216000000.0</td>\n",
       "      <td>0</td>\n",
       "    </tr>\n",
       "    <tr>\n",
       "      <th>3</th>\n",
       "      <td>Korea</td>\n",
       "      <td>171000000.0</td>\n",
       "      <td>126000000.0</td>\n",
       "      <td>0</td>\n",
       "    </tr>\n",
       "    <tr>\n",
       "      <th>4</th>\n",
       "      <td>China</td>\n",
       "      <td>170000000.0</td>\n",
       "      <td>89000000.0</td>\n",
       "      <td>0</td>\n",
       "    </tr>\n",
       "    <tr>\n",
       "      <th>5</th>\n",
       "      <td>Honkong</td>\n",
       "      <td>165000000.0</td>\n",
       "      <td>128000000.0</td>\n",
       "      <td>0</td>\n",
       "    </tr>\n",
       "    <tr>\n",
       "      <th>6</th>\n",
       "      <td>France</td>\n",
       "      <td>164000000.0</td>\n",
       "      <td>123000000.0</td>\n",
       "      <td>0</td>\n",
       "    </tr>\n",
       "    <tr>\n",
       "      <th>7</th>\n",
       "      <td>India</td>\n",
       "      <td>161000000.0</td>\n",
       "      <td>78000000.0</td>\n",
       "      <td>0</td>\n",
       "    </tr>\n",
       "    <tr>\n",
       "      <th>8</th>\n",
       "      <td>Vietnam</td>\n",
       "      <td>135000000.0</td>\n",
       "      <td>67000000.0</td>\n",
       "      <td>0</td>\n",
       "    </tr>\n",
       "    <tr>\n",
       "      <th>9</th>\n",
       "      <td>Taipei</td>\n",
       "      <td>134000000.0</td>\n",
       "      <td>99000000.0</td>\n",
       "      <td>0</td>\n",
       "    </tr>\n",
       "    <tr>\n",
       "      <th>10</th>\n",
       "      <td>Spain</td>\n",
       "      <td>121000000.0</td>\n",
       "      <td>92000000.0</td>\n",
       "      <td>0</td>\n",
       "    </tr>\n",
       "    <tr>\n",
       "      <th>11</th>\n",
       "      <td>United Kingdom</td>\n",
       "      <td>116000000.0</td>\n",
       "      <td>87000000.0</td>\n",
       "      <td>0</td>\n",
       "    </tr>\n",
       "    <tr>\n",
       "      <th>12</th>\n",
       "      <td>Italy</td>\n",
       "      <td>105000000.0</td>\n",
       "      <td>82000000.0</td>\n",
       "      <td>0</td>\n",
       "    </tr>\n",
       "    <tr>\n",
       "      <th>13</th>\n",
       "      <td>Canada</td>\n",
       "      <td>105000000.0</td>\n",
       "      <td>76000000.0</td>\n",
       "      <td>0</td>\n",
       "    </tr>\n",
       "    <tr>\n",
       "      <th>14</th>\n",
       "      <td>Malaysia</td>\n",
       "      <td>100000000.0</td>\n",
       "      <td>55000000.0</td>\n",
       "      <td>0</td>\n",
       "    </tr>\n",
       "    <tr>\n",
       "      <th>15</th>\n",
       "      <td>Netherlands</td>\n",
       "      <td>99000000.0</td>\n",
       "      <td>73000000.0</td>\n",
       "      <td>0</td>\n",
       "    </tr>\n",
       "    <tr>\n",
       "      <th>16</th>\n",
       "      <td>Saudi Arabia</td>\n",
       "      <td>81000000.0</td>\n",
       "      <td>48000000.0</td>\n",
       "      <td>0</td>\n",
       "    </tr>\n",
       "    <tr>\n",
       "      <th>17</th>\n",
       "      <td>Singapore</td>\n",
       "      <td>74000000.0</td>\n",
       "      <td>60000000.0</td>\n",
       "      <td>0</td>\n",
       "    </tr>\n",
       "    <tr>\n",
       "      <th>18</th>\n",
       "      <td>Poland</td>\n",
       "      <td>73000000.0</td>\n",
       "      <td>53000000.0</td>\n",
       "      <td>0</td>\n",
       "    </tr>\n",
       "    <tr>\n",
       "      <th>19</th>\n",
       "      <td>Switzerland</td>\n",
       "      <td>64000000.0</td>\n",
       "      <td>48000000.0</td>\n",
       "      <td>0</td>\n",
       "    </tr>\n",
       "    <tr>\n",
       "      <th>20</th>\n",
       "      <td>Belgium</td>\n",
       "      <td>51000000.0</td>\n",
       "      <td>38000000.0</td>\n",
       "      <td>0</td>\n",
       "    </tr>\n",
       "    <tr>\n",
       "      <th>21</th>\n",
       "      <td>Australia</td>\n",
       "      <td>50000000.0</td>\n",
       "      <td>36000000.0</td>\n",
       "      <td>0</td>\n",
       "    </tr>\n",
       "    <tr>\n",
       "      <th>22</th>\n",
       "      <td>Austria</td>\n",
       "      <td>48000000.0</td>\n",
       "      <td>36000000.0</td>\n",
       "      <td>0</td>\n",
       "    </tr>\n",
       "    <tr>\n",
       "      <th>23</th>\n",
       "      <td>Russia</td>\n",
       "      <td>42000000.0</td>\n",
       "      <td>30000000.0</td>\n",
       "      <td>0</td>\n",
       "    </tr>\n",
       "    <tr>\n",
       "      <th>24</th>\n",
       "      <td>Brazil</td>\n",
       "      <td>41000000.0</td>\n",
       "      <td>26000000.0</td>\n",
       "      <td>0</td>\n",
       "    </tr>\n",
       "    <tr>\n",
       "      <th>25</th>\n",
       "      <td>Bangladesh</td>\n",
       "      <td>29000000.0</td>\n",
       "      <td>14000000.0</td>\n",
       "      <td>0</td>\n",
       "    </tr>\n",
       "    <tr>\n",
       "      <th>26</th>\n",
       "      <td>Czechia</td>\n",
       "      <td>28000000.0</td>\n",
       "      <td>21000000.0</td>\n",
       "      <td>0</td>\n",
       "    </tr>\n",
       "  </tbody>\n",
       "</table>\n",
       "</div>"
      ],
      "text/plain": [
       "            Country   export_potential  actual_export  cluster\n",
       "0     United States        575000000.0    424000000.0        1\n",
       "1            German        478000000.0    367000000.0        1\n",
       "2             Japan        273000000.0    216000000.0        0\n",
       "3             Korea        171000000.0    126000000.0        0\n",
       "4             China        170000000.0     89000000.0        0\n",
       "5           Honkong        165000000.0    128000000.0        0\n",
       "6            France        164000000.0    123000000.0        0\n",
       "7             India        161000000.0     78000000.0        0\n",
       "8           Vietnam        135000000.0     67000000.0        0\n",
       "9            Taipei        134000000.0     99000000.0        0\n",
       "10            Spain        121000000.0     92000000.0        0\n",
       "11   United Kingdom        116000000.0     87000000.0        0\n",
       "12            Italy        105000000.0     82000000.0        0\n",
       "13           Canada        105000000.0     76000000.0        0\n",
       "14         Malaysia        100000000.0     55000000.0        0\n",
       "15      Netherlands         99000000.0     73000000.0        0\n",
       "16     Saudi Arabia         81000000.0     48000000.0        0\n",
       "17        Singapore         74000000.0     60000000.0        0\n",
       "18           Poland         73000000.0     53000000.0        0\n",
       "19      Switzerland         64000000.0     48000000.0        0\n",
       "20          Belgium         51000000.0     38000000.0        0\n",
       "21        Australia         50000000.0     36000000.0        0\n",
       "22          Austria         48000000.0     36000000.0        0\n",
       "23           Russia         42000000.0     30000000.0        0\n",
       "24           Brazil         41000000.0     26000000.0        0\n",
       "25       Bangladesh         29000000.0     14000000.0        0\n",
       "26          Czechia         28000000.0     21000000.0        0"
      ]
     },
     "execution_count": 45,
     "metadata": {},
     "output_type": "execute_result"
    }
   ],
   "source": [
    "df"
   ]
  },
  {
   "cell_type": "code",
   "execution_count": 50,
   "id": "4150500c",
   "metadata": {},
   "outputs": [],
   "source": [
    "for i in range(2,27):\n",
    "    df = df.drop([i]) "
   ]
  },
  {
   "cell_type": "code",
   "execution_count": 51,
   "id": "a53117cd",
   "metadata": {},
   "outputs": [
    {
     "data": {
      "text/html": [
       "<div>\n",
       "<style scoped>\n",
       "    .dataframe tbody tr th:only-of-type {\n",
       "        vertical-align: middle;\n",
       "    }\n",
       "\n",
       "    .dataframe tbody tr th {\n",
       "        vertical-align: top;\n",
       "    }\n",
       "\n",
       "    .dataframe thead th {\n",
       "        text-align: right;\n",
       "    }\n",
       "</style>\n",
       "<table border=\"1\" class=\"dataframe\">\n",
       "  <thead>\n",
       "    <tr style=\"text-align: right;\">\n",
       "      <th></th>\n",
       "      <th>Country</th>\n",
       "      <th>export_potential</th>\n",
       "      <th>actual_export</th>\n",
       "      <th>cluster</th>\n",
       "    </tr>\n",
       "  </thead>\n",
       "  <tbody>\n",
       "    <tr>\n",
       "      <th>0</th>\n",
       "      <td>United States</td>\n",
       "      <td>575000000.0</td>\n",
       "      <td>424000000.0</td>\n",
       "      <td>1</td>\n",
       "    </tr>\n",
       "    <tr>\n",
       "      <th>1</th>\n",
       "      <td>German</td>\n",
       "      <td>478000000.0</td>\n",
       "      <td>367000000.0</td>\n",
       "      <td>1</td>\n",
       "    </tr>\n",
       "  </tbody>\n",
       "</table>\n",
       "</div>"
      ],
      "text/plain": [
       "          Country   export_potential  actual_export  cluster\n",
       "0   United States        575000000.0    424000000.0        1\n",
       "1          German        478000000.0    367000000.0        1"
      ]
     },
     "execution_count": 51,
     "metadata": {},
     "output_type": "execute_result"
    }
   ],
   "source": [
    "df"
   ]
  }
 ],
 "metadata": {
  "kernelspec": {
   "display_name": "Python 3 (ipykernel)",
   "language": "python",
   "name": "python3"
  },
  "language_info": {
   "codemirror_mode": {
    "name": "ipython",
    "version": 3
   },
   "file_extension": ".py",
   "mimetype": "text/x-python",
   "name": "python",
   "nbconvert_exporter": "python",
   "pygments_lexer": "ipython3",
   "version": "3.7.11"
  }
 },
 "nbformat": 4,
 "nbformat_minor": 5
}
